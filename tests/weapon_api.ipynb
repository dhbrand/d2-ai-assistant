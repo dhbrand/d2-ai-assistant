{
 "cells": [
  {
   "cell_type": "markdown",
   "metadata": {},
   "source": [
    "# Destiny 2 Weapon Roll Extraction\n",
    "This notebook interactively extracts and classifies all possible and equipped Destiny 2 weapon perks for your account, similar to D2Checklist or DIM."
   ]
  },
  {
   "cell_type": "code",
   "execution_count": 1,
   "metadata": {},
   "outputs": [],
   "source": [
    "# --- Imports and Environment Setup ---\n",
    "import os\n",
    "import sys\n",
    "import json\n",
    "from pprint import pprint\n",
    "from datetime import datetime\n",
    "from dotenv import load_dotenv\n",
    "from supabase import create_client\n",
    "\n",
    "# Adjust sys.path to include the project root\n",
    "SCRIPT_DIR = os.path.dirname(os.path.realpath(\".\"))\n",
    "PROJECT_ROOT = os.path.abspath(os.path.join(SCRIPT_DIR, os.pardir))\n",
    "if PROJECT_ROOT not in sys.path:\n",
    "    sys.path.insert(0, PROJECT_ROOT)\n",
    "\n",
    "# Load environment variables\n",
    "load_dotenv()\n",
    "BUNGIE_API_KEY = os.getenv(\"BUNGIE_API_KEY\")\n",
    "SUPABASE_URL = os.getenv(\"SUPABASE_URL\")\n",
    "SUPABASE_SERVICE_ROLE_KEY = os.getenv(\"SUPABASE_SERVICE_ROLE_KEY\")\n",
    "BUNGIE_ACCESS_TOKEN = os.getenv(\"BUNGIE_ACCESS_TOKEN\")\n",
    "\n",
    "# Logging\n",
    "import logging\n",
    "logging.basicConfig(level=logging.INFO, format='%(asctime)s - %(levelname)s - %(message)s')\n",
    "logger = logging.getLogger(__name__)\n"
   ]
  },
  {
   "cell_type": "code",
   "execution_count": 2,
   "metadata": {},
   "outputs": [
    {
     "name": "stdout",
     "output_type": "stream",
     "text": [
      "sys.path: ['/Users/davehiltbrand/Documents/destiny2_catalysts', '/Users/davehiltbrand/Documents', '/opt/homebrew/Cellar/python@3.11/3.11.12/Frameworks/Python.framework/Versions/3.11/lib/python311.zip', '/opt/homebrew/Cellar/python@3.11/3.11.12/Frameworks/Python.framework/Versions/3.11/lib/python3.11', '/opt/homebrew/Cellar/python@3.11/3.11.12/Frameworks/Python.framework/Versions/3.11/lib/python3.11/lib-dynload', '', '/Users/davehiltbrand/Documents/destiny2_catalysts/venv/lib/python3.11/site-packages']\n"
     ]
    }
   ],
   "source": [
    "import os\n",
    "import sys\n",
    "\n",
    "# Set this to the absolute path of your project root (where web_app/ lives)\n",
    "PROJECT_ROOT = \"/Users/davehiltbrand/Documents/destiny2_catalysts\"\n",
    "if PROJECT_ROOT not in sys.path:\n",
    "    sys.path.insert(0, PROJECT_ROOT)\n",
    "print(\"sys.path:\", sys.path)"
   ]
  },
  {
   "cell_type": "code",
   "execution_count": 3,
   "metadata": {},
   "outputs": [
    {
     "name": "stdout",
     "output_type": "stream",
     "text": [
      "{'access_token': 'CIilBxKGAgAgwl7sm+Nrb+Z6BLZwm/c1Hb/p9uKuXYyYWz9JMKIdY4ngAAAAOGxeRPQMRY8Ep32CyQIJ41Y7SIQyPVf/VLUTJBrWbdUPIG+piUeA/+hyFyLaJVeIPy+uFEsONQijbTxDr2pSxbWtqbVAXIqI80lL3Be0LLsfDSbA3DEbCUfMArySep6+AosIOUdq5swZxh/uS0lQmx7NWFhkon32XHoMhrc8TZE2FfTlrs5TVAmMPh6mYbkKuUvI52Y+DmqrgYEZNDHM64SL0vzcUPzKuII/4LzhlNr9KaxmSjCe5gM8RpvK/6uRCvErVAc/cELKsa8nnyUtYfWXaQUwisF+ZJE3uUVX3mE=', 'token_type': 'Bearer', 'expires_in': 3600, 'refresh_token': 'CIilBxKGAgAgECulzix6v/kR+pFcA9koH2KUE9kSqFVbvqpglr3oOfPgAAAARDbs96N/zyFjkO2b0VZqU8MMS6pvQBxE70ROu8mIQCFOG7AY1dID4RKjzp1kEjAf/ydtjuMCJTAh0DhiypT1AQIkbxO90I2okWl5Vt5R6Cuir6yRh0RGpt4s/x7xmnEu7z6P7tOr+FqWTF7wAVFx4l8AYjskhAGnU//Ssp7SQWiOKRXTC1oEZA7ilBHISC4xKsrokMvWLgnjQqRrDg447S6kv0Z7VfHHblBsOKMeqbyfPR6mcp0bqmTnozfAeV4g3g7M/VcO6B78iACZlVYq4+LDmHFA8WqGUcG7BrT7Lcg=', 'refresh_expires_in': 7776000, 'membership_id': '29565467', 'received_at': '2025-05-14T06:49:44.548056'}\n"
     ]
    }
   ],
   "source": [
    "TOKEN_PATH = os.path.join(PROJECT_ROOT, \"token.json\")\n",
    "\n",
    "with open(TOKEN_PATH, \"r\") as f:\n",
    "    token_data = json.load(f)\n",
    "print(token_data)"
   ]
  },
  {
   "cell_type": "code",
   "execution_count": 4,
   "metadata": {},
   "outputs": [
    {
     "name": "stdout",
     "output_type": "stream",
     "text": [
      "Current working directory: /Users/davehiltbrand/Documents/destiny2_catalysts\n",
      "token.json exists: True\n"
     ]
    }
   ],
   "source": [
    "import os\n",
    "\n",
    "# Set this to your project root where token.json lives\n",
    "PROJECT_ROOT = \"/Users/davehiltbrand/Documents/destiny2_catalysts\"\n",
    "os.chdir(PROJECT_ROOT)\n",
    "print(\"Current working directory:\", os.getcwd())\n",
    "print(\"token.json exists:\", os.path.exists(\"token.json\"))"
   ]
  },
  {
   "cell_type": "code",
   "execution_count": 5,
   "metadata": {},
   "outputs": [
    {
     "name": "stderr",
     "output_type": "stream",
     "text": [
      "2025-05-14 06:51:14,731 - INFO - [DEBUG] Attempting to load token data from file...\n",
      "2025-05-14 06:51:14,732 - INFO - [DEBUG] Raw data loaded from token.json: {'access_token': 'CIilBxKGAgAgwl7sm+Nrb+Z6BLZwm/c1Hb/p9uKuXYyYWz9JMKIdY4ngAAAAOGxeRPQMRY8Ep32CyQIJ41Y7SIQyPVf/VLUTJBrWbdUPIG+piUeA/+hyFyLaJVeIPy+uFEsONQijbTxDr2pSxbWtqbVAXIqI80lL3Be0LLsfDSbA3DEbCUfMArySep6+AosIOUdq5swZxh/uS0lQmx7NWFhkon32XHoMhrc8TZE2FfTlrs5TVAmMPh6mYbkKuUvI52Y+DmqrgYEZNDHM64SL0vzcUPzKuII/4LzhlNr9KaxmSjCe5gM8RpvK/6uRCvErVAc/cELKsa8nnyUtYfWXaQUwisF+ZJE3uUVX3mE=', 'token_type': 'Bearer', 'expires_in': 3600, 'refresh_token': 'CIilBxKGAgAgECulzix6v/kR+pFcA9koH2KUE9kSqFVbvqpglr3oOfPgAAAARDbs96N/zyFjkO2b0VZqU8MMS6pvQBxE70ROu8mIQCFOG7AY1dID4RKjzp1kEjAf/ydtjuMCJTAh0DhiypT1AQIkbxO90I2okWl5Vt5R6Cuir6yRh0RGpt4s/x7xmnEu7z6P7tOr+FqWTF7wAVFx4l8AYjskhAGnU//Ssp7SQWiOKRXTC1oEZA7ilBHISC4xKsrokMvWLgnjQqRrDg447S6kv0Z7VfHHblBsOKMeqbyfPR6mcp0bqmTnozfAeV4g3g7M/VcO6B78iACZlVYq4+LDmHFA8WqGUcG7BrT7Lcg=', 'refresh_expires_in': 7776000, 'membership_id': '29565467', 'received_at': '2025-05-14T06:49:44.548056'}\n",
      "2025-05-14 06:51:14,732 - INFO - Loaded token data from token.json. Token expires at 2025-05-14 07:49:44.548056\n"
     ]
    }
   ],
   "source": [
    "# --- Supabase and Bungie API Setup ---\n",
    "from web_app.backend.weapon_api import WeaponAPI\n",
    "from web_app.backend.manifest import SupabaseManifestService\n",
    "from web_app.backend.bungie_oauth import OAuthManager\n",
    "# Add the parent directory to sys.path to find web_app module\n",
    "\n",
    "\n",
    "sb_client = create_client(SUPABASE_URL, SUPABASE_SERVICE_ROLE_KEY)\n",
    "manifest_service = SupabaseManifestService(sb_client=sb_client)\n",
    "oauth_manager = OAuthManager()\n",
    "weapon_api = WeaponAPI(oauth_manager=oauth_manager, manifest_service=manifest_service)\n"
   ]
  },
  {
   "cell_type": "code",
   "execution_count": 21,
   "metadata": {},
   "outputs": [
    {
     "name": "stderr",
     "output_type": "stream",
     "text": [
      "2025-05-14 07:07:48,526 - INFO - WeaponAPI: Fetching membership info...\n",
      "2025-05-14 07:07:48,652 - INFO - WeaponAPI found membership - Type: 3, ID: 4611686018517808552\n",
      "2025-05-14 07:07:48,653 - INFO - WeaponAPI: Getting profile for 4611686018517808552, type 3 with components [102, 201, 205, 305, 310]\n",
      "2025-05-14 07:07:48,926 - INFO - WeaponAPI successfully fetched profile components for user 4611686018517808552.\n"
     ]
    }
   ],
   "source": [
    "# --- Fetch Profile and Prepare Data ---\n",
    "membership_info = await weapon_api.get_membership_info()\n",
    "if not membership_info:\n",
    "    raise Exception(\"Could not fetch membership info from Bungie API.\")\n",
    "membership_type = membership_info[\"type\"]\n",
    "destiny_membership_id = membership_info[\"id\"]\n",
    "\n",
    "components = [102, 201, 205, 305, 310]\n",
    "profile_response_data = await weapon_api.get_profile(\n",
    "    membership_type=membership_type,\n",
    "    destiny_membership_id=destiny_membership_id,\n",
    "    components=components\n",
    ")\n",
    "\n",
    "if not profile_response_data:\n",
    "    raise Exception(\"Failed to get profile response data from WeaponAPI.\")\n",
    "profile_data = profile_response_data[\"Response\"]\n",
    "character_equip = profile_data[\"characterEquipment\"][\"data\"]\n",
    "character_inventories = profile_data[\"characterInventories\"][\"data\"]\n",
    "profile_inventory = profile_data[\"profileInventory\"][\"data\"]\n",
    "item_sockets = profile_data[\"itemComponents\"][\"sockets\"][\"data\"]\n",
    "# item_instances = profile_data[\"itemComponents\"][\"instances\"][\"data\"]\n",
    "# profile_plugsets = profile_data.get(\"profilePlugSets\", {}).get(\"data\", {}).get(\"plugs\", {})\n",
    "# character_plugsets = profile_data.get(\"characterPlugSets\", {}).get(\"data\", {})\n",
    "reusable_plugs = profile_data['itemComponents']['reusablePlugs']['data']\n"
   ]
  },
  {
   "cell_type": "code",
   "execution_count": 20,
   "metadata": {},
   "outputs": [
    {
     "data": {
      "text/plain": [
       "dict_keys(['sockets', 'reusablePlugs'])"
      ]
     },
     "execution_count": 20,
     "metadata": {},
     "output_type": "execute_result"
    }
   ],
   "source": [
    "profile_data['itemComponents'].keys()"
   ]
  },
  {
   "cell_type": "code",
   "execution_count": 22,
   "metadata": {},
   "outputs": [],
   "source": [
    "# --- Flatten all items and process up to 10 weapons ---\n",
    "from itertools import chain\n",
    "all_items = list(chain(\n",
    "    *(v.get(\"items\", []) for v in character_equip.values()),\n",
    "    *(v.get(\"items\", []) for v in character_inventories.values()),\n",
    "    profile_inventory.get(\"items\", []),\n",
    "))\n",
    "\n"
   ]
  },
  {
   "cell_type": "code",
   "execution_count": 25,
   "metadata": {},
   "outputs": [
    {
     "name": "stderr",
     "output_type": "stream",
     "text": [
      "2025-05-14 07:09:07,457 - INFO - HTTP Request: GET https://grwqemflswabswphkute.supabase.co/rest/v1/destinyinventoryitemdefinition?select=json_data&hash=eq.2549387168 \"HTTP/2 200 OK\"\n",
      "2025-05-14 07:09:07,656 - INFO - HTTP Request: GET https://grwqemflswabswphkute.supabase.co/rest/v1/destinyinventoryitemdefinition?select=json_data&hash=eq.1201830623 \"HTTP/2 200 OK\"\n"
     ]
    },
    {
     "name": "stdout",
     "output_type": "stream",
     "text": [
      "Processing Truth (6917529600276329350)\n"
     ]
    }
   ],
   "source": [
    "import random\n",
    "random.shuffle(all_items)\n",
    "for item in all_items:\n",
    "    item_hash = item.get('itemHash')\n",
    "    item_def = manifest_service.get_definition('DestinyInventoryItemDefinition', item_hash)\n",
    "    if item_def.get('itemType') == 3:  # not a weapon\n",
    "        break\n",
    "\n",
    "instance_id = item.get('itemInstanceId')\n",
    "print(f'Processing {item_def[\"displayProperties\"][\"name\"]} ({instance_id})')"
   ]
  },
  {
   "cell_type": "code",
   "execution_count": 30,
   "metadata": {},
   "outputs": [
    {
     "name": "stdout",
     "output_type": "stream",
     "text": [
      "Fighting Lion not found in inventory\n"
     ]
    }
   ],
   "source": [
    "# fighting lion 6917529770813290935\n",
    "# Find Fighting Lion in all items\n",
    "fighting_lion_hash = 6917529770813290935 # Fighting Lion's item hash\n",
    "fighting_lion = None\n",
    "for item in all_items:\n",
    "    if item.get('itemHash') == fighting_lion_hash:\n",
    "        fighting_lion = item\n",
    "        break\n",
    "\n",
    "if fighting_lion:\n",
    "    instance_id = fighting_lion.get('itemInstanceId')\n",
    "    item_def = manifest_service.get_definition('DestinyInventoryItemDefinition', fighting_lion_hash)\n",
    "    print(f'Found Fighting Lion ({instance_id})')\n",
    "else:\n",
    "    print('Fighting Lion not found in inventory')\n"
   ]
  },
  {
   "cell_type": "code",
   "execution_count": 31,
   "metadata": {},
   "outputs": [
    {
     "data": {
      "text/plain": [
       "{'sockets': [{'plugHash': 2491817779, 'isEnabled': True, 'isVisible': True},\n",
       "  {'plugHash': 1478423395, 'isEnabled': True, 'isVisible': True},\n",
       "  {'plugHash': 2822142346, 'isEnabled': True, 'isVisible': True},\n",
       "  {'plugHash': 2911329003, 'isEnabled': True, 'isVisible': True},\n",
       "  {'plugHash': 3465198467, 'isEnabled': True, 'isVisible': True},\n",
       "  {'plugHash': 2931483505, 'isEnabled': True, 'isVisible': True},\n",
       "  {'isEnabled': False, 'isVisible': False},\n",
       "  {'isEnabled': False, 'isVisible': False},\n",
       "  {'isEnabled': False, 'isVisible': False},\n",
       "  {'plugHash': 2240097604, 'isEnabled': True, 'isVisible': True},\n",
       "  {'plugHash': 1498917124, 'isEnabled': True, 'isVisible': False}]}"
      ]
     },
     "execution_count": 31,
     "metadata": {},
     "output_type": "execute_result"
    }
   ],
   "source": [
    "item_sockets.get(instance_id, {})"
   ]
  },
  {
   "cell_type": "code",
   "execution_count": 32,
   "metadata": {},
   "outputs": [
    {
     "name": "stdout",
     "output_type": "stream",
     "text": [
      "[DEBUG] reusable_plugs_data keys: ['6917530110443598914', '6917529603870481739', '6917529871647767419', '6917529819069510174', '6917529617647242171', '6917529662540121834', '6917529801112623330', '6917529806490869337', '6917529835255814812', '6917529990397295727', '6917529867795149587', '6917529475949466141', '6917529619688663567', '6917529934675429376', '6917529934675429899', '6917529933980104631', '6917529930190442138', '6917529931288722132', '6917529931589518556', '6917529937560018316', '6917529935705442395', '6917529607550277784', '6917529686490795757', '6917529932278441412', '6917529930120527063', '6917529930113795729', '6917529930543808058', '6917529930106867061', '6917529930120529872', '6917529878388215364', '6917529990397296072', '6917529797961593979', '6917529607550275197', '6917530111462386496', '6917529941047491787', '6917530110796452069', '6917530111444227557', '6917530111464930061', '6917530110803967924', '6917530111464931450', '6917530110553875057', '6917530111460872952', '6917530111460873415', '6917530111464931846', '6917530111464931316', '6917530111464931484', '6917530111462384844', '6917529790024353533', '6917529889394702689', '6917529925039492991', '6917529926614114565', '6917529990038150562', '6917529858476153320', '6917529851074049532', '6917529806695864838', '6917529937302277738', '6917529606932547828', '6917529811085067323', '6917529867795142829', '6917529826582911182', '6917529835243511828', '6917529927927485389', '6917529847145261968', '6917529835352628144', '6917529837433763693', '6917529867795150831', '6917529822089974961', '6917529803342200652', '6917529997773925865', '6917529863250387440', '6917529992298925470', '6917529990076103191', '6917529930856299525', '6917529934675430291', '6917529948260884041', '6917529930196826501', '6917529936026683492', '6917529936044998442', '6917529958050878856', '6917529938606096983', '6917529932132781769', '6917529938598938260', '6917529936281175999', '6917529989736039351', '6917529933980107943', '6917529934669527605', '6917529988836226951', '6917529936253768446', '6917529941054001481', '6917529935359637210', '6917529988839702178', '6917529932447762961', '6917529935191363464', '6917529936292428886', '6917529930184987055', '6917529831743547952', '6917529623593525149', '6917529806695865515', '6917529801991182024', '6917529936281180758', '6917529990399197538', '6917529989736037813', '6917529930204909567', '6917529934745569537', '6917529935705451220', '6917529659548037616', '6917529994465099671', '6917529997289583092', '6917529997767255303', '6917530000218155261', '6917529616471627120', '6917529841863519966', '6917529990021661624', '6917529993159354014', '6917529996659839202', '6917529993155184475', '6917529818739894285', '6917529994609095527', '6917529997773924923', '6917529938711237561', '6917529938694720210', '6917529997919921977', '6917529994294509842', '6917529996175620760', '6917529997289584575', '6917529938711236715', '6917529997783948102', '6917529997787856838', '6917529996235688129', '6917529997297301600', '6917529996659837275', '6917529982931714757', '6917529990027012903', '6917529930527957981', '6917529992651236816', '6917529937528944125', '6917529870197929200', '6917529930519311152', '6917529990025141368', '6917529992035842477', '6917529994291090844', '6917529997773925096', '6917529941047484169', '6917529990025141030', '6917529997295188854', '6917529822425022729', '6917529831432838600', '6917529828456727395', '6917529789762612297', '6917529891403785359', '6917529828364036753', '6917530110172342648', '6917529602445169639', '6917530110439727256', '6917530110174229136', '6917529848946095277', '6917530110445453568', '6917529800934270866', '6917529831765711437', '6917529804332107002', '6917529605792545039', '6917529810353826734', '6917530111448750453', '6917529893511261638', '6917530111456738764', '6917529930106866063', '6917529930063751459', '6917530111446585479', '6917530110445460662', '6917529734885409325', '6917529603661878958', '6917529935711349585', '6917529843137290431', '6917530110798264709', '6917529599067491616', '6917530111452627723', '6917529845020648171', '6917529931969553472', '6917529938623796610', '6917529887774420361', '6917529994849035294', '6917529993174902663', '6917529821944301712', '6917529801404657825', '6917529996654394083', '6917529893132858741', '6917529935180526471', '6917529935359639645', '6917529845004998430', '6917529602062496571', '6917529893825656743', '6917529740271616667', '6917529803687008168', '6917529938144913751', '6917529621632175464', '6917529874475657113', '6917529845417627559', '6917529640003987940', '6917529888060995637', '6917529891261303141', '6917529723105310969', '6917529834810670830', '6917529988849631690', '6917529928167780058', '6917529891294236337', '6917529730785892798', '6917529843288669392', '6917529941054001328', '6917529937004349526', '6917529932017354399', '6917529893036343410', '6917529922107622415', '6917529630705327293', '6917529822707907595', '6917529770694471733', '6917529894377220894', '6917529827564303862', '6917529790107612883', '6917529928551377021', '6917529809746509295', '6917529833072812093', '6917529799853689122', '6917529941029928675', '6917529850525512034', '6917529804060564946', '6917529807184950121', '6917529817537268564', '6917529941053998362', '6917529933980111754', '6917529935665280610', '6917529730746225589', '6917529810351908796', '6917529939620393809', '6917530068710595515', '6917529893121143359', '6917529893151979123', '6917529938611252842', '6917529902426695922', '6917529799853685504', '6917529983614450092', '6917529895407900223', '6917529936998594211', '6917529827252616821', '6917529932437188910', '6917529905272453235', '6917529935678777131', '6917529662005985324', '6917529863464336457', '6917529731755873942', '6917529948271428665', '6917529631624071874', '6917529835400535625', '6917529845431920718', '6917529948271426195', '6917529902435047066', '6917529898071874329', '6917529842795778419', '6917529992651236750', '6917529803710091873', '6917529820457544767', '6917529930803502195', '6917529993176928493', '6917529610961468977', '6917529939027664911', '6917529938630071317', '6917529822053956726', '6917529630691488622', '6917529841556443205', '6917529930774257537', '6917529802462676995', '6917529806457129804', '6917529806073885486', '6917529796310659161', '6917529939003032701', '6917529807576683787', '6917529993176923968', '6917529701345241323', '6917529938623794842', '6917529993176923439', '6917529930120527067', '6917529872140185812', '6917529616016101052', '6917529770747339041', '6917529877263652266', '6917529993192706409', '6917529908680461334', '6917529928598414429', '6917529990076105622', '6917529800903392458', '6917529846542723820', '6917529625497134231', '6917529625506760236', '6917529988849627572', '6917529990073872642', '6917529813022289255', '6917529806496931734', '6917529731738732085', '6917529714746265870', '6917529908696067361', '6917529893151982087', '6917529988846161777', '6917529682867714770', '6917529990029066467', '6917529990040206210', '6917529988851256267', '6917529983883962020', '6917529983620299965', '6917529820838362580', '6917529699811647604', '6917529993169420450', '6917529990032825436', '6917529990347324693', '6917529893846139675', '6917529893867158297', '6917529905300249434', '6917529941053999150', '6917529990452799242', '6917529793520771639', '6917529887008828911', '6917529795712907239', '6917529842394399246', '6917529834810664394', '6917529926600104999', '6917529908559199711', '6917529875159433740', '6917529990458052895', '6917529880726400745', '6917529881505417386', '6917529991380456294', '6917529991394506936', '6917529874210483268', '6917529992298927096', '6917529908565642564', '6917529991035837580', '6917529992213841184', '6917529991397180604', '6917529991394505066', '6917529834535818529', '6917529877312407893', '6917529992302383530', '6917529736908616747', '6917529792065539566', '6917529887812043717', '6917529601480345300', '6917529832766325606', '6917529608864657085', '6917530068583728602', '6917529858476155595', '6917529800449660864', '6917529994333909768', '6917529849693521901', '6917529926592296790', '6917529811275262542', '6917529935230649540', '6917529911903883695', '6917529807048321675', '6917529911893488660', '6917529990005806400', '6917529911903886185', '6917529842414459425', '6917529993174907735', '6917529800449655608', '6917529798990386816', '6917529770886733334', '6917529937605578361', '6917529911876057600', '6917529905586451400', '6917529941041556529', '6917529807515250325', '6917529983355408800', '6917529926600110368', '6917529883915038256', '6917529896768770686', '6917529806675329753', '6917529983612734289', '6917529990057228846', '6917529990058906914', '6917529802928729828', '6917529992476155318', '6917529993176923700', '6917529928174207276', '6917529775955136101', '6917529679668983394', '6917529823393491902', '6917529994840504684', '6917529926600102452', '6917529926592300183', '6917529926607697903', '6917529810228990493', '6917529819345047476', '6917529761181380136', '6917529928174210165', '6917529996179125809', '6917529799554395629', '6917529927773638924', '6917529927949672152', '6917529922101890498', '6917529863312423401', '6917529926623062573', '6917529993187027719', '6917529849678449527', '6917529795316755083', '6917529994584620582', '6917529994460200306', '6917529847139425999', '6917529994840502884', '6917529994836793563', '6917529858813840189', '6917529789762620575', '6917529994766496694', '6917529994446672793', '6917529993959101889', '6917529993367722033', '6917529842848286153', '6917529994441766382', '6917529992649821774', '6917529994327260573', '6917529994840511140', '6917529795438780808', '6917529988621487678', '6917529840314170532', '6917529994318214890', '6917529855257056765', '6917529783067514631', '6917529886994757829', '6917529608982852676', '6917529849328141963', '6917529936285733998', '6917529993960715047', '6917529814137518187', '6917529806490865308', '6917529993960718089', '6917529937651744118', '6917529996442134633', '6917529818444847120', '6917529842848289636', '6917529996948869877', '6917529995032001133', '6917529803359291153', '6917529996503972366', '6917529996658016020', '6917529996129231063', '6917529994847589734', '6917529874482605830', '6917529996658022282', '6917529996497228185', '6917529983795833701', '6917529996950569761', '6917529996656194559', '6917529996659834683', '6917529995025941924', '6917529996498773773', '6917529996659840604', '6917529851067868105', '6917529996656200478', '6917529996952128990', '6917529850180578010', '6917529891409477574', '6917529841112372509', '6917529790646796891', '6917529997306405095', '6917529876919221667', '6917529993409513139', '6917529990038150092', '6917529677474144382', '6917529850525505351', '6917529863283394617', '6917529847893557678', '6917529798584414229', '6917529894377214065', '6917529990034473819', '6917530109407465763', '6917529863296821579', '6917529738812959742', '6917529927766754856', '6917529887610829885', '6917529863496759419', '6917530109416293552', '6917530109055077242', '6917529922600662966', '6917530109835278822', '6917529799858307972', '6917529800449661974', '6917529863300935631', '6917529876767143245', '6917529602045384041', '6917529800458970541', '6917529825219667323', '6917529826576854324', '6917529807500496982', '6917529828461678417', '6917529863260300451', '6917529845425163340', '6917529790118832609', '6917529832834138337', '6917529831765702603', '6917529829122736596', '6917529881247908964', '6917529798663389485', '6917529795412973333', '6917529803715849129', '6917529888648017622', '6917529820467285394'] (count: 503)\n"
     ]
    },
    {
     "data": {
      "text/plain": [
       "{}"
      ]
     },
     "execution_count": 32,
     "metadata": {},
     "output_type": "execute_result"
    }
   ],
   "source": [
    "reusable_plugs_data = profile_response_data.get(\"Response\", {}).get(\"itemComponents\", {}).get(\"reusablePlugs\", {}).get(\"data\", {})\n",
    "print(f\"[DEBUG] reusable_plugs_data keys: {list(reusable_plugs_data.keys())} (count: {len(reusable_plugs_data)})\")\n",
    "instance_reusable_plugs = reusable_plugs_data.get(instance_id, {}).get('plugs', {})\n",
    "instance_reusable_plugs"
   ]
  },
  {
   "cell_type": "code",
   "execution_count": 33,
   "metadata": {},
   "outputs": [
    {
     "data": {
      "text/plain": [
       "[{'plugHash': 2491817779, 'isEnabled': True, 'isVisible': True},\n",
       " {'plugHash': 1478423395, 'isEnabled': True, 'isVisible': True},\n",
       " {'plugHash': 2822142346, 'isEnabled': True, 'isVisible': True},\n",
       " {'plugHash': 2911329003, 'isEnabled': True, 'isVisible': True},\n",
       " {'plugHash': 3465198467, 'isEnabled': True, 'isVisible': True},\n",
       " {'plugHash': 2931483505, 'isEnabled': True, 'isVisible': True},\n",
       " {'isEnabled': False, 'isVisible': False},\n",
       " {'isEnabled': False, 'isVisible': False},\n",
       " {'isEnabled': False, 'isVisible': False},\n",
       " {'plugHash': 2240097604, 'isEnabled': True, 'isVisible': True},\n",
       " {'plugHash': 1498917124, 'isEnabled': True, 'isVisible': False}]"
      ]
     },
     "execution_count": 33,
     "metadata": {},
     "output_type": "execute_result"
    }
   ],
   "source": [
    "instance_sockets = item_sockets.get(instance_id, {}).get('sockets', {})\n",
    "instance_sockets"
   ]
  },
  {
   "cell_type": "code",
   "execution_count": 39,
   "metadata": {},
   "outputs": [],
   "source": [
    "socket_plug_hashes = {}\n",
    "instance_reusable_plugs = reusable_plugs_data.get(instance_id, {}).get('plugs', {})\n",
    "instance_sockets = item_sockets.get(instance_id, {}).get('sockets', [])\n",
    "\n",
    "for idx, socket in enumerate(instance_sockets):\n",
    "    # Prefer reusablePlugs if present for this socket\n",
    "    plug_hashes = []\n",
    "    if instance_reusable_plugs and str(idx) in instance_reusable_plugs:\n",
    "        plug_hashes = [plug['plugItemHash'] for plug in instance_reusable_plugs[str(idx)]]\n",
    "    # Always add the equipped plug from itemSockets (especially for intrinsic)\n",
    "    plug_hash = socket.get('plugHash')\n",
    "    if plug_hash and plug_hash not in plug_hashes:\n",
    "        plug_hashes.append(plug_hash)\n",
    "    if plug_hashes:\n",
    "        socket_plug_hashes[idx] = plug_hashes"
   ]
  },
  {
   "cell_type": "code",
   "execution_count": 40,
   "metadata": {},
   "outputs": [],
   "source": [
    "all_plug_hashes = set()\n",
    "for plug_list in socket_plug_hashes.values():\n",
    "    all_plug_hashes.update(plug_list)"
   ]
  },
  {
   "cell_type": "code",
   "execution_count": 41,
   "metadata": {},
   "outputs": [
    {
     "name": "stderr",
     "output_type": "stream",
     "text": [
      "2025-05-14 11:28:44,397 - INFO - Starting batch fetch for 8 definitions from destinyinventoryitemdefinition in 1 chunk(s).\n"
     ]
    },
    {
     "name": "stderr",
     "output_type": "stream",
     "text": [
      "2025-05-14 11:28:44,853 - INFO - HTTP Request: GET https://grwqemflswabswphkute.supabase.co/rest/v1/destinyinventoryitemdefinition?select=hash%2Cjson_data&hash=in.%281478423395%2C3465198467%2C2240097604%2C1498917124%2C2822142346%2C2911329003%2C2931483505%2C2491817779%29 \"HTTP/2 200 OK\"\n",
      "2025-05-14 11:28:44,871 - INFO - Batch fetch complete for destinyinventoryitemdefinition. Total definitions fetched: 8 out of 8 requested.\n"
     ]
    }
   ],
   "source": [
    "# 2. Batch fetch all plug definitions\n",
    "plug_definitions = manifest_service.get_definitions_batch(\n",
    "    'DestinyInventoryItemDefinition',\n",
    "    list(all_plug_hashes)\n",
    ")"
   ]
  },
  {
   "cell_type": "code",
   "execution_count": 42,
   "metadata": {},
   "outputs": [],
   "source": [
    "socket_plug_defs = {}\n",
    "for socket_index, plug_hashes in socket_plug_hashes.items():\n",
    "    socket_plug_defs[socket_index] = [\n",
    "        plug_definitions.get(plug_hash) for plug_hash in plug_hashes if plug_definitions.get(plug_hash)\n",
    "    ]"
   ]
  },
  {
   "cell_type": "code",
   "execution_count": 43,
   "metadata": {},
   "outputs": [
    {
     "name": "stdout",
     "output_type": "stream",
     "text": [
      "Socket 0: ['Prototype Trueseeker']\n",
      "Socket 1: ['Volatile Launch']\n",
      "Socket 2: ['High-Velocity Rounds']\n",
      "Socket 3: ['Grenades and Horseshoes']\n",
      "Socket 4: ['Composite Stock']\n",
      "Socket 5: ['Default Ornament']\n",
      "Socket 9: ['Kill Tracker']\n",
      "Socket 10: ['Empty Catalyst Socket']\n"
     ]
    }
   ],
   "source": [
    "# Assuming socket_plug_defs is already built as described earlier\n",
    "for socket_index, plug_defs in socket_plug_defs.items():\n",
    "    plug_names = [plug_def['displayProperties']['name'] for plug_def in plug_defs if plug_def]\n",
    "    print(f\"Socket {socket_index}: {plug_names}\")"
   ]
  },
  {
   "cell_type": "code",
   "execution_count": 21,
   "metadata": {},
   "outputs": [
    {
     "name": "stdout",
     "output_type": "stream",
     "text": [
      "Socket 1: Hard Launch (hash: 981914802) -> col1_barrel\n",
      "Socket 1: Quick Launch (hash: 3525010810) -> col1_barrel\n",
      "Socket 2: Black Powder (hash: 1996142143) -> col2_magazine\n",
      "Socket 2: Implosion Rounds (hash: 3492396210) -> col2_magazine\n",
      "Socket 3: Field Prep (hash: 2869569095) -> col3_trait1\n",
      "Socket 3: Impulse Amplifier (hash: 951095735) -> col3_trait1\n",
      "Socket 4: Explosive Light (hash: 3194351027) -> col4_trait2\n",
      "Socket 5: Default Shader (hash: 4248210736) -> shader\n",
      "Socket 6: Adept Blast Radius (hash: 229003538) -> weapon_mod\n",
      "Socket 6: Adept Projectile Speed (hash: 2299766748) -> weapon_mod\n",
      "Socket 6: Adept Handling (hash: 4278960718) -> weapon_mod\n",
      "Socket 6: Adept Reload (hash: 634781242) -> weapon_mod\n",
      "Socket 6: Adept Counterbalance (hash: 1525622117) -> weapon_mod\n",
      "Socket 6: Adept Targeting (hash: 1710791394) -> weapon_mod\n",
      "Socket 8: Stunning Recovery (hash: 1281216113) -> origin_trait\n",
      "Socket 8: Vanguard's Vindication (hash: 744217850) -> origin_trait\n"
     ]
    }
   ],
   "source": [
    "# Define your PCI/category mappings\n",
    "PCI_COL1 = {\"barrels\", \"tubes\", \"bowstrings\", \"blades\", \"hafts\", \"scopes\"}\n",
    "PCI_COL2 = {\"magazines\", \"batteries\", \"guards\", \"arrows\"}\n",
    "TRAIT_PCI = {\"frames\", \"grips\", \"traits\"}\n",
    "ORIGIN_PCI = {\"origin\"}\n",
    "MASTERWORK_PCI = {\"masterworks\"}\n",
    "\n",
    "def get_plug_category(plug_def):\n",
    "    pci = plug_def.get('plug', {}).get('plugCategoryIdentifier', '').lower()\n",
    "    name = plug_def.get('displayProperties', {}).get('name', '')\n",
    "    item_type_display_name = plug_def.get('itemTypeDisplayName', '').lower()\n",
    "    if any(key in pci for key in PCI_COL1):\n",
    "        return \"col1_barrel\"\n",
    "    elif any(key in pci for key in PCI_COL2):\n",
    "        return \"col2_magazine\"\n",
    "    elif any(key in pci for key in TRAIT_PCI) or plug_def.get('itemTypeDisplayName') in (\"Trait\", \"Enhanced Trait\", \"Grip\"):\n",
    "        return \"trait\"\n",
    "    elif any(key in pci for key in ORIGIN_PCI) or plug_def.get('itemTypeDisplayName') == \"Origin Trait\":\n",
    "        return \"origin_trait\"\n",
    "    elif 'masterworks' in pci and name.startswith('Masterworked:'):\n",
    "        return \"masterwork\"\n",
    "    elif \"shader\" in pci:\n",
    "        return \"shader\"\n",
    "    elif \"weapon.mod_guns\" in pci or \"weapon mod\" in item_type_display_name:\n",
    "        return \"weapon_mod\"\n",
    "    else:\n",
    "        return \"other\"\n",
    "    \n",
    "# 1. Identify all trait sockets (by your PCI logic or however you already do it)\n",
    "trait_socket_indexes = []\n",
    "for socket_index, plug_defs in socket_plug_defs.items():\n",
    "    # If any plug in this socket is a trait, consider this a trait socket\n",
    "    if any(get_plug_category(plug_def) == \"trait\" for plug_def in plug_defs if plug_def):\n",
    "        trait_socket_indexes.append(socket_index)\n",
    "\n",
    "# 2. Sort trait sockets for consistent ordering\n",
    "trait_socket_indexes = sorted(trait_socket_indexes)\n",
    "\n",
    "# 3. Print with col3_trait1/col4_trait2 labels\n",
    "for socket_index, plug_defs in socket_plug_defs.items():\n",
    "    for plug_def in plug_defs:\n",
    "        if not plug_def:\n",
    "            continue\n",
    "        name = plug_def['displayProperties']['name']\n",
    "        category = get_plug_category(plug_def)\n",
    "        item_hash = plug_def.get('hash')\n",
    "        # Determine trait column label if this is a trait\n",
    "        if category == \"trait\":\n",
    "            if socket_index == trait_socket_indexes[0]:\n",
    "                trait_label = \"col3_trait1\"\n",
    "            elif len(trait_socket_indexes) > 1 and socket_index == trait_socket_indexes[1]:\n",
    "                trait_label = \"col4_trait2\"\n",
    "            else:\n",
    "                trait_label = \"trait\"\n",
    "            print(f\"Socket {socket_index}: {name} (hash: {item_hash}) -> {trait_label}\")\n",
    "        else:\n",
    "            print(f\"Socket {socket_index}: {name} (hash: {item_hash}) -> {category}\")"
   ]
  },
  {
   "cell_type": "code",
   "execution_count": null,
   "metadata": {},
   "outputs": [],
   "source": []
  }
 ],
 "metadata": {
  "kernelspec": {
   "display_name": "venv",
   "language": "python",
   "name": "python3"
  },
  "language_info": {
   "codemirror_mode": {
    "name": "ipython",
    "version": 3
   },
   "file_extension": ".py",
   "mimetype": "text/x-python",
   "name": "python",
   "nbconvert_exporter": "python",
   "pygments_lexer": "ipython3",
   "version": "3.11.12"
  }
 },
 "nbformat": 4,
 "nbformat_minor": 2
}
